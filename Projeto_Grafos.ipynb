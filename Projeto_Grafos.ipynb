{
  "nbformat": 4,
  "nbformat_minor": 0,
  "metadata": {
    "colab": {
      "provenance": []
    },
    "kernelspec": {
      "name": "python3",
      "display_name": "Python 3"
    },
    "language_info": {
      "name": "python"
    }
  },
  "cells": [
    {
      "cell_type": "code",
      "source": [
        "from trabalho_etapa1 import  Grafo, quantidadeDeVertices, capacidadeDosVeiculos, quantidadeDeVerticesRequeridos\n",
        "\n",
        "\n",
        "arquivo = \"BHW1.dat\"\n",
        "\n",
        "g = Grafo(quantidadeDeVertices(arquivo),capacidadeDosVeiculos(arquivo))\n",
        "\n",
        "g.adiciona_arco_Normal(arquivo)\n",
        "g.adiciona_arco_Requerido(arquivo)\n",
        "g.adiciona_aresta_Normal(arquivo)\n",
        "g.adiciona_aresta_requerida(arquivo)\n",
        "g.floyd_warshall()\n",
        "[dist,pred] = g.floyd_warshall()\n",
        "\n",
        "\n",
        "print('Quantidade de vértices: ', quantidadeDeVertices(arquivo))\n",
        "print('Quantidade de arestas: ', g.adiciona_aresta_Normal(arquivo))\n",
        "print('Quantidade de arcos: ', g.adiciona_arco_Normal(arquivo))\n",
        "print('Quantidade de vértices requeridos: ', quantidadeDeVerticesRequeridos(arquivo))\n",
        "print('Quantidade de arestas requeridas: ', g.adiciona_aresta_requerida(arquivo))\n",
        "print('Quantidade de arcos requeridas: ', g.adiciona_arco_Requerido(arquivo))\n",
        "print('Densidade: ', g.densidadeGrafo(arquivo))\n",
        "print('Componentes Conectados: ', g.encontrarComponentes())\n",
        "print('Grau mínimo dos vértices: ', g.grauMinimo())\n",
        "print('Grau máximo dos vértices: ', g.grauMaximo())\n",
        "print('Intermediação: ', g.intermediacao(pred))\n",
        "print('Caminho médio: ', g.caminho_medio(dist))\n",
        "print('Diâmetro: ', g.diametroDoGrafo())\n",
        "\n",
        "print('Matriz de Distancias: ')\n",
        "print(g.imprimir_matriz(dist))\n",
        "\n",
        "print('Matriz de predecessores: ')\n",
        "print(g.imprimir_matriz(pred))\n"
      ],
      "metadata": {
        "colab": {
          "base_uri": "https://localhost:8080/"
        },
        "id": "XU9wV6gZQABR",
        "outputId": "7b705a64-a13e-40ce-ad5c-1d5f1d9d0fa4"
      },
      "execution_count": 10,
      "outputs": [
        {
          "output_type": "stream",
          "name": "stdout",
          "text": [
            "Quantidade de vértices:  12\n",
            "Quantidade de arestas:  0\n",
            "Quantidade de arcos:  11\n",
            "Quantidade de vértices requeridos:  7\n",
            "Quantidade de arestas requeridas:  11\n",
            "Quantidade de arcos requeridas:  11\n",
            "Densidade:  0.3333333333333333\n",
            "Componentes Conectados:  [[0, 1, 3, 6, 9, 11, 2, 8, 5, 7, 10, 4]]\n",
            "Grau mínimo dos vértices:  3\n",
            "Grau máximo dos vértices:  5\n",
            "Intermediação:  [17, 17, 8, 3, 12, 19, 11, 15, 9, 6, 5, 10]\n",
            "Caminho médio:  30.37121212121212\n",
            "Diâmetro:  59\n",
            "Matriz de Distancias: \n",
            "0      27     42     35     31     16     20     37     32     39     58     9      \n",
            "13     0      37     19     42     29     33     41     5      38     34     22     \n",
            "27     37     0      41     5      20     24     41     42     48     46     23     \n",
            "17     19     20     0      25     33     37     54     24     56     53     26     \n",
            "22     48     11     52     0      15     19     36     53     43     41     18     \n",
            "7      34     26     42     15     0      4      21     39     28     42     3      \n",
            "16     43     35     51     24     9      0      17     48     24     38     12     \n",
            "26     40     52     59     41     26     17     0      35     7      21     29     \n",
            "18     5      42     24     47     34     38     36     0      33     29     27     \n",
            "19     38     55     54     44     29     20     3      33     0      24     28     \n",
            "32     19     52     38     41     47     38     21     14     25     0      41     \n",
            "4      31     33     39     22     7      11     28     36     35     49     0      \n",
            "None\n",
            "Matriz de predecessores: \n",
            "-1     0      4      0      5      11     5      6      1      0      7      0      \n",
            "1      -1     1      1      2      11     5      9      1      8      8      0      \n",
            "11     2      -1     2      2      4      5      6      1      7      4      5      \n",
            "3      3      3      -1     2      11     5      6      1      0      8      0      \n",
            "11     2      4      2      -1     4      5      6      1      7      4      5      \n",
            "11     0      4      0      5      -1     5      6      1      7      7      5      \n",
            "11     0      4      0      5      6      -1     6      1      7      7      5      \n",
            "9      8      4      1      5      6      7      -1     10     7      7      5      \n",
            "1      8      1      1      2      11     5      9      -1     8      8      0      \n",
            "9      8      4      0      5      6      7      9      9      -1     7      0      \n",
            "1      8      4      1      10     6      7      10     10     10     -1     0      \n",
            "11     0      4      0      5      11     5      6      1      7      7      -1     \n",
            "None\n"
          ]
        }
      ]
    }
  ]
}